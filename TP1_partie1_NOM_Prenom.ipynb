{
 "cells": [
  {
   "cell_type": "markdown",
   "id": "1655baa8",
   "metadata": {},
   "source": [
    "# Methode des rectangles et des trapezes\n",
    "\n",
    "On veut calculer l'integrale suivante: $$\n",
    "\\int_{0}^{10}10x^2.e^{-x} \\, dx\n",
    "$$ par des methodes d'integration numerique: la methode des rectangles et celle des trapezes:\n"
   ]
  },
  {
   "cell_type": "markdown",
   "id": "047766d0",
   "metadata": {},
   "source": [
    "### **1-Creation du fichier python**(Facile)"
   ]
  },
  {
   "cell_type": "markdown",
   "id": "52bbc73f",
   "metadata": {},
   "source": [
    "### **2-a)Calcul de l'integrale par les deux methodes**"
   ]
  },
  {
   "cell_type": "markdown",
   "id": "35838dda",
   "metadata": {},
   "source": [
    "**Section d'importation des modules** "
   ]
  },
  {
   "cell_type": "code",
   "execution_count": 5,
   "id": "62e6d768",
   "metadata": {},
   "outputs": [],
   "source": [
    "import numpy as np # importation des modules necessaires.\n",
    "import matplotlib.pyplot as plt"
   ]
  },
  {
   "cell_type": "markdown",
   "id": "eb0dd80d",
   "metadata": {},
   "source": [
    "**Definition de la fonction a integrer**"
   ]
  },
  {
   "cell_type": "code",
   "execution_count": 91,
   "id": "bf6b2558",
   "metadata": {},
   "outputs": [],
   "source": [
    "def f(x):\n",
    "    \"\"\"\"Fonction a integrer \"\"\"\n",
    "    return 10*x**2*np.exp(-x)"
   ]
  },
  {
   "cell_type": "markdown",
   "id": "842c6238",
   "metadata": {},
   "source": [
    "**Definition de la primitive de la fonction**"
   ]
  },
  {
   "cell_type": "code",
   "execution_count": 93,
   "id": "85d4ed89",
   "metadata": {},
   "outputs": [],
   "source": [
    "def F(x):\n",
    "    \"\"\"primitive de f\"\"\"\n",
    "    return -(10*x**2+20*x+20)*np.exp(-x)"
   ]
  },
  {
   "cell_type": "markdown",
   "id": "8672eced",
   "metadata": {},
   "source": [
    "**Definition de la fonction d'integration numerique par la methode des rectangles**"
   ]
  },
  {
   "cell_type": "code",
   "execution_count": null,
   "id": "c7c48f03",
   "metadata": {},
   "outputs": [],
   "source": [
    "def rectangle(a, b, n):\n",
    "    \"\"\"Fonction nous permettant de faire l'integration numerique par la methode des rectangles\"\"\"\n",
    "    h = (b-a)/(n-1)\n",
    "    rect_plot_y = []\n",
    "    rect_plot_x = []\n",
    "    integrale = 0\n",
    "    for j in range(n):\n",
    "        x=a +j*h\n",
    "        integrale = integrale + f(x)\n",
    "        rect_plot_y.append([0,0,f(a+(j+1)*h),f(a+(j+1)*h),0])\n",
    "        rect_plot_x.append([x,a+(j+1)*h,a+(j+1)*h,x,x])\n",
    "    return h*integrale,rect_plot_x,rect_plot_y\n",
    "    "
   ]
  },
  {
   "cell_type": "markdown",
   "id": "b83fd9b1",
   "metadata": {},
   "source": [
    "**Definition de la fonction d'integration numerique par la methode des trapezes**"
   ]
  },
  {
   "cell_type": "code",
   "execution_count": 74,
   "id": "5695589e",
   "metadata": {},
   "outputs": [],
   "source": [
    "# defintion d'une fontion nous permettant de faire l'integration par la methode des trapezes et des rectangles\n",
    "def trapeze(a, b, n):\n",
    "    \"\"\"Fonction nous permettant de faire l'integration numerique par la methode des trapezes\"\"\"\n",
    "    h = abs(b-a)/(n-1)\n",
    "    Trap_plot_y = []\n",
    "    Trap_plot_x = []\n",
    "    integrale = 0\n",
    "    for j in range(n-1):\n",
    "        x=a +j*h\n",
    "        integrale = integrale + f(x)\n",
    "        Trap_plot_y.append([0,0,f(a+(j+1)*h),f(x),0])\n",
    "        Trap_plot_x.append([x,a+(j+1)*h,a+(j+1)*h,x,x])\n",
    "    integrale = integrale + 0.5*f(b)-0.5*f(a)\n",
    "    return h*integrale,Trap_plot_x,Trap_plot_y        "
   ]
  },
  {
   "cell_type": "markdown",
   "id": "df5cebc7",
   "metadata": {},
   "source": [
    "**Fonction pour effectuer la representation graphique** "
   ]
  },
  {
   "cell_type": "code",
   "execution_count": 97,
   "id": "0010508f",
   "metadata": {},
   "outputs": [],
   "source": [
    "def Plotting(f,a,b,x_set,y_set,couleur):\n",
    "    # creer la figure et l'axe\n",
    "    fig,ax = plt.subplots()\n",
    "    # creation des points qui vont nous servir a tracer la courbe\n",
    "    x = np.linspace(a,b,100)\n",
    "    y = f(x)\n",
    "    # Tracee de la courbe de la fonction\n",
    "    ax.plot(x,y,label = 'y = f(x)')\n",
    "    # Tracee des rectangles\n",
    "    for i in range(len(x_set)):\n",
    "        ax.fill(x_set[i],y_set[i],color= couleur,alpha = 0.5)\n",
    "    #affichage de la courbe\n",
    "    plt.show()\n",
    "    "
   ]
  },
  {
   "cell_type": "markdown",
   "id": "f21896b4",
   "metadata": {},
   "source": [
    "### Calcul integrale par  la methode des rectangles"
   ]
  },
  {
   "cell_type": "code",
   "execution_count": 103,
   "id": "75cabc34",
   "metadata": {},
   "outputs": [
    {
     "name": "stdout",
     "output_type": "stream",
     "text": [
      "l'integration numerique par la methode des rectangles donne: 19.94946733821725\n",
      "l'integration numerique par la methode des trapezes donne: 19.937519988279757\n"
     ]
    }
   ],
   "source": [
    "int_rect,x,y = rectangle(0,10,20)\n",
    "int_trap,u,v = trapeze(0,10,20)\n",
    "print(\"l'integration numerique par la methode des rectangles donne: \"+str(int_rect))\n",
    "print(\"l'integration numerique par la methode des trapezes donne: \"+str(int_trap))"
   ]
  },
  {
   "cell_type": "markdown",
   "id": "2ed85601",
   "metadata": {},
   "source": [
    "### Calcul de l'ecart relatif entre le l'integrale numerique et de l'integrale reelle"
   ]
  },
  {
   "cell_type": "code",
   "execution_count": 105,
   "id": "51a68eaf",
   "metadata": {},
   "outputs": [
    {
     "name": "stdout",
     "output_type": "stream",
     "text": [
      "L'ecart methodes des rectangles/analytic: 0.00024343679920274782\n",
      "L'ecart methodes des trapezes/analytic: 0.000355589638923144\n"
     ]
    }
   ],
   "source": [
    "int_analytic = F(10)-F(0)\n",
    "Err_rect = abs(int_analytic-int_rect)/int_analytic\n",
    "Err_trap = abs(int_analytic-int_trap)/int_analytic\n",
    "print(\"L'ecart methodes des rectangles/analytic: \"+str(Err_rect))\n",
    "print(\"L'ecart methodes des trapezes/analytic: \"+str(Err_trap))"
   ]
  },
  {
   "cell_type": "markdown",
   "id": "f184d2a3",
   "metadata": {},
   "source": [
    "### Representation graphique"
   ]
  },
  {
   "cell_type": "code",
   "execution_count": 106,
   "id": "58a86ef3",
   "metadata": {},
   "outputs": [
    {
     "data": {
      "image/png": "[encoded data removed]",
      "text/plain": [
       "<Figure size 640x480 with 1 Axes>"
      ]
     },
     "metadata": {},
     "output_type": "display_data"
    }
   ],
   "source": [
    "Plotting(f,0,10,x,y,'green')"
   ]
  },
  {
   "cell_type": "code",
   "execution_count": 107,
   "id": "1398f8f0",
   "metadata": {},
   "outputs": [
    {
     "data": {
      "image/png": "[encoded data removed]",
      "text/plain": [
       "<Figure size 640x480 with 1 Axes>"
      ]
     },
     "metadata": {},
     "output_type": "display_data"
    }
   ],
   "source": [
    "\n",
    "Plotting(f,0,10,u,v,'red')"
   ]
  },
  {
   "cell_type": "markdown",
   "id": "5c903d6c",
   "metadata": {},
   "source": []
  },
  {
   "cell_type": "code",
   "execution_count": null,
   "id": "3190e0b7",
   "metadata": {},
   "outputs": [],
   "source": []
  }
 ],
 "metadata": {
  "kernelspec": {
   "display_name": "Python 3 (ipykernel)",
   "language": "python",
   "name": "python3"
  },
  "language_info": {
   "codemirror_mode": {
    "name": "ipython",
    "version": 3
   },
   "file_extension": ".py",
   "mimetype": "text/x-python",
   "name": "python",
   "nbconvert_exporter": "python",
   "pygments_lexer": "ipython3",
   "version": "3.11.4"
  }
 },
 "nbformat": 4,
 "nbformat_minor": 5
}
